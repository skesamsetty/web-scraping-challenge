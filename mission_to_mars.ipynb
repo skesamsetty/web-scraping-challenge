{
 "cells": [
  {
   "cell_type": "code",
   "execution_count": 1,
   "id": "376a205f-b6e5-4d3d-a5ad-d089de0215b7",
   "metadata": {},
   "outputs": [],
   "source": [
    "# import dependencies\n",
    "\n",
    "from splinter import Browser\n",
    "from webdriver_manager.chrome import ChromeDriverManager\n",
    "from bs4 import BeautifulSoup as bs\n",
    "# from random import randint\n",
    "# from time import sleep, ctime\n",
    "\n",
    "def init_browser():\n",
    "    executable_path = {'executable_path': ChromeDriverManager().install()}\n",
    "    return Browser('chrome', **executable_path, headless=False)"
   ]
  },
  {
   "cell_type": "code",
   "execution_count": 2,
   "id": "8f985472-0184-4f0d-8e92-b4e22987a868",
   "metadata": {},
   "outputs": [
    {
     "name": "stderr",
     "output_type": "stream",
     "text": [
      "\n",
      "\n",
      "====== WebDriver manager ======\n",
      "Current google-chrome version is 94.0.4606\n",
      "Get LATEST driver version for 94.0.4606\n",
      "Driver [C:\\Users\\kesam\\.wdm\\drivers\\chromedriver\\win32\\94.0.4606.61\\chromedriver.exe] found in cache\n"
     ]
    }
   ],
   "source": [
    "# Start browser\n",
    "browser = init_browser()"
   ]
  },
  {
   "cell_type": "code",
   "execution_count": 5,
   "id": "7ca5c025-f082-4deb-aa8e-2d2c9a979eae",
   "metadata": {
    "tags": []
   },
   "outputs": [],
   "source": [
    "#NASA Mars News\n",
    "news_url = \"https://mars.nasa.gov/news/\"\n",
    "\n",
    "# Visit the URl.\n",
    "browser.visit(news_url)\n",
    "\n",
    "# HTML object\n",
    "html = browser.html\n",
    "        \n",
    "# Parse HTML with Beautiful Soup\n",
    "news_soup = bs(html, \"html.parser\")\n",
    "# print(soup.prettify())"
   ]
  },
  {
   "cell_type": "code",
   "execution_count": 6,
   "id": "3a09d1ae-6e89-4ab5-b8cc-24cab6bfb78a",
   "metadata": {
    "tags": []
   },
   "outputs": [
    {
     "name": "stdout",
     "output_type": "stream",
     "text": [
      "Latest Headline: \n",
      "\tWith First Martian Samples Packed, Perseverance Initiates Remarkable Sample Return Mission \n",
      "Article Content: \n",
      "\tNASA, along with the European Space Agency, is developing a campaign to return the Martian samples to Earth. \n",
      "Article Dated: \n",
      "\tOctober 12, 2021\n"
     ]
    }
   ],
   "source": [
    "# Identify all listings of NASA Mars News website\n",
    "\n",
    "article_date_list = []\n",
    "news_headlines_list = []\n",
    "article_body_list = []\n",
    "\n",
    "news_listings = news_soup.find_all('li', attrs={\"class\": \"slide\"})\n",
    "\n",
    "for news_listing in news_listings:\n",
    "#     print(\"________________________________________________________________________________________________________\")\n",
    "#     print(news_listing)  \n",
    "    try:\n",
    "        article_date = news_listing.find('div', attrs={\"class\": \"list_date\"}).text\n",
    "        article_date_list.append(article_date)\n",
    "#         print(article_date[-4:])\n",
    "#         print(article_date)\n",
    "    except:\n",
    "        print(news_listing)\n",
    "    try:\n",
    "        news_headlines = news_listing.find('div', attrs={\"class\": \"content_title\"}).text\n",
    "        news_headlines_list.append(news_headlines)\n",
    "#         print(news_headlines)\n",
    "    except:\n",
    "        print(news_listing)\n",
    "    try:\n",
    "        article_body = news_listing.find('div', attrs={\"class\": \"article_teaser_body\"}).text\n",
    "        article_body_list.append(article_body)\n",
    "#         print(article_body)\n",
    "    except:\n",
    "        print(news_listing)\n",
    "        \n",
    "# As assignment requests only the latest news article information, loading the first elements of the lists into requested variables.\n",
    "news_title = news_headlines_list[0]\n",
    "news_p = article_body_list[0]\n",
    "news_date = article_date_list[0]\n",
    "print(f\"Latest Headline: \\n\\t{news_title} \\nArticle Content: \\n\\t{news_p} \\nArticle Dated: \\n\\t{news_date}\")"
   ]
  },
  {
   "cell_type": "code",
   "execution_count": 9,
   "id": "1fba8828-4be5-46af-9a29-798d32114b3a",
   "metadata": {
    "tags": []
   },
   "outputs": [],
   "source": [
    "# Visit JPL Mars Space Images - Featured Image\n",
    "mars_jpl_url = \"https://data-class-jpl-space.s3.amazonaws.com/JPL_Space/\"\n",
    "mars_jpl_home_url = \"https://data-class-jpl-space.s3.amazonaws.com/JPL_Space/index.html\"\n",
    "browser.visit(mars_jpl_home_url)\n",
    "\n",
    "# HTML object\n",
    "html = browser.html\n",
    "        \n",
    "# Parse HTML with Beautiful Soup\n",
    "img_soup = bs(html, \"html.parser\")\n",
    "# print(img_soup.prettify())"
   ]
  },
  {
   "cell_type": "code",
   "execution_count": 10,
   "id": "140c58cb-7542-4bf1-b89b-135f374a5ce4",
   "metadata": {},
   "outputs": [
    {
     "data": {
      "text/plain": [
       "'https://data-class-jpl-space.s3.amazonaws.com/JPL_Space/image/featured/mars1.jpg'"
      ]
     },
     "execution_count": 10,
     "metadata": {},
     "output_type": "execute_result"
    }
   ],
   "source": [
    "# Get NASA JPL Featured Image URL\n",
    "image = img_soup.find('div', attrs = {\"class\":\"floating_text_area\"})\n",
    "image_url = image.find('a')['href']\n",
    "featured_image_url = mars_jpl_url + image_url\n",
    "featured_image_url"
   ]
  },
  {
   "cell_type": "code",
   "execution_count": 21,
   "id": "cdf860c2-d108-460a-a8d7-c3d02f6b51a2",
   "metadata": {},
   "outputs": [],
   "source": []
  },
  {
   "cell_type": "code",
   "execution_count": 6,
   "id": "876f942a-6d96-46ea-bf75-2279fb3f06d5",
   "metadata": {},
   "outputs": [],
   "source": [
    "browser.quit()"
   ]
  },
  {
   "cell_type": "code",
   "execution_count": null,
   "id": "0c1df7d5-1eeb-4276-bddb-52c60e6a045e",
   "metadata": {},
   "outputs": [],
   "source": []
  }
 ],
 "metadata": {
  "kernelspec": {
   "display_name": "Python 3",
   "language": "python",
   "name": "python3"
  },
  "language_info": {
   "codemirror_mode": {
    "name": "ipython",
    "version": 3
   },
   "file_extension": ".py",
   "mimetype": "text/x-python",
   "name": "python",
   "nbconvert_exporter": "python",
   "pygments_lexer": "ipython3",
   "version": "3.8.8"
  }
 },
 "nbformat": 4,
 "nbformat_minor": 5
}
